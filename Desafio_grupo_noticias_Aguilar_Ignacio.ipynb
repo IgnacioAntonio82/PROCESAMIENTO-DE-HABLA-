{
  "cells": [
    {
      "cell_type": "markdown",
      "metadata": {
        "id": "view-in-github",
        "colab_type": "text"
      },
      "source": [
        "<a href=\"https://colab.research.google.com/github/IgnacioAntonio82/PROCESAMIENTO-DE-HABLA-/blob/main/Desafio_grupo_noticias_Aguilar_Ignacio.ipynb\" target=\"_parent\"><img src=\"https://colab.research.google.com/assets/colab-badge.svg\" alt=\"Open In Colab\"/></a>"
      ]
    },
    {
      "cell_type": "markdown",
      "metadata": {
        "id": "zq6j8LsYq1Dr"
      },
      "source": [
        "### Vectorización de texto y modelo de clasificación Naïve Bayes con el dataset 20 newsgroups"
      ]
    },
    {
      "cell_type": "code",
      "execution_count": null,
      "metadata": {
        "id": "l7cXR6CI30ry"
      },
      "outputs": [],
      "source": [
        "from sklearn.feature_extraction.text import CountVectorizer, TfidfVectorizer\n",
        "from sklearn.metrics.pairwise import cosine_similarity\n",
        "from sklearn.naive_bayes import MultinomialNB, ComplementNB\n",
        "from sklearn.metrics import f1_score\n",
        "\n",
        "# 20newsgroups por ser un dataset clásico de NLP ya viene incluido y formateado\n",
        "# en sklearn\n",
        "from sklearn.datasets import fetch_20newsgroups\n",
        "import numpy as np"
      ]
    },
    {
      "cell_type": "markdown",
      "metadata": {
        "id": "yD-pVDWV_rQc"
      },
      "source": [
        "## Carga de datos"
      ]
    },
    {
      "cell_type": "code",
      "execution_count": null,
      "metadata": {
        "id": "Ech9qJaUo9vK"
      },
      "outputs": [],
      "source": [
        "# cargamos los datos (ya separados de forma predeterminada en train y test)\n",
        "newsgroups_train = fetch_20newsgroups(subset='train', remove=('headers', 'footers', 'quotes'))\n",
        "newsgroups_test = fetch_20newsgroups(subset='test', remove=('headers', 'footers', 'quotes'))"
      ]
    },
    {
      "cell_type": "markdown",
      "metadata": {
        "id": "UxjSI7su_uWI"
      },
      "source": [
        "## Vectorización"
      ]
    },
    {
      "cell_type": "code",
      "execution_count": null,
      "metadata": {
        "id": "-94VP0QYCzDn"
      },
      "outputs": [],
      "source": [
        "# instanciamos un vectorizador\n",
        "# ver diferentes parámetros de instanciación en la documentación de sklearn\n",
        "tfidfvect = TfidfVectorizer()"
      ]
    },
    {
      "cell_type": "code",
      "execution_count": null,
      "metadata": {
        "colab": {
          "base_uri": "https://localhost:8080/",
          "height": 70
        },
        "id": "ftPlyanuak8n",
        "outputId": "e1edc8a5-48f0-4f55-8055-c6d1a483d132"
      },
      "outputs": [
        {
          "data": {
            "application/vnd.google.colaboratory.intrinsic+json": {
              "type": "string"
            },
            "text/plain": [
              "\"A fair number of brave souls who upgraded their SI clock oscillator have\\nshared their experiences for this poll. Please send a brief message detailing\\nyour experiences with the procedure. Top speed attained, CPU rated speed,\\nadd on cards and adapters, heat sinks, hour of usage per day, floppy disk\\nfunctionality with 800 and 1.4 m floppies are especially requested.\\n\\nI will be summarizing in the next two days, so please add to the network\\nknowledge base if you have done the clock upgrade and haven't answered this\\npoll. Thanks.\""
            ]
          },
          "execution_count": 5,
          "metadata": {},
          "output_type": "execute_result"
        }
      ],
      "source": [
        "# en el atributo `data` accedemos al texto\n",
        "newsgroups_train.data[1]"
      ]
    },
    {
      "cell_type": "code",
      "execution_count": null,
      "metadata": {
        "id": "1zxcXV6aC_oL"
      },
      "outputs": [],
      "source": [
        "# con la interfaz habitual de sklearn podemos fitear el vectorizador\n",
        "# (obtener el vocabulario y calcular el vector IDF)\n",
        "# y transformar directamente los datos\n",
        "X_train = tfidfvect.fit_transform(newsgroups_train.data)\n",
        "# `X_train` la podemos denominar como la matriz documento-término"
      ]
    },
    {
      "cell_type": "code",
      "execution_count": null,
      "metadata": {
        "colab": {
          "base_uri": "https://localhost:8080/"
        },
        "id": "4Sv7TXbda41-",
        "outputId": "0cecf228-cf7b-4a8a-ade4-bd3c6baba065"
      },
      "outputs": [
        {
          "name": "stdout",
          "output_type": "stream",
          "text": [
            "<class 'scipy.sparse._csr.csr_matrix'>\n",
            "shape: (11314, 101631)\n",
            "cantidad de documentos: 11314\n",
            "tamaño del vocabulario (dimensionalidad de los vectores): 101631\n"
          ]
        }
      ],
      "source": [
        "# recordar que las vectorizaciones por conteos son esparsas\n",
        "# por ello sklearn convenientemente devuelve los vectores de documentos\n",
        "# como matrices esparsas\n",
        "print(type(X_train))\n",
        "print(f'shape: {X_train.shape}')\n",
        "print(f'cantidad de documentos: {X_train.shape[0]}')\n",
        "print(f'tamaño del vocabulario (dimensionalidad de los vectores): {X_train.shape[1]}')"
      ]
    },
    {
      "cell_type": "code",
      "execution_count": null,
      "metadata": {
        "colab": {
          "base_uri": "https://localhost:8080/"
        },
        "id": "dgydNTZ2pAgR",
        "outputId": "ecc28772-2186-46d8-b0ad-26c7da6a7abe"
      },
      "outputs": [
        {
          "data": {
            "text/plain": [
              "25775"
            ]
          },
          "execution_count": 8,
          "metadata": {},
          "output_type": "execute_result"
        }
      ],
      "source": [
        "# una vez ajustado el vectorizador, podemos acceder a atributos como el vocabulario\n",
        "# aprendido. Es un diccionario que va de términos a índices.\n",
        "# El índice es la posición en el vector de documento.\n",
        "tfidfvect.vocabulary_['car']"
      ]
    },
    {
      "cell_type": "code",
      "execution_count": null,
      "metadata": {
        "id": "xnTSZuvyrTcP"
      },
      "outputs": [],
      "source": [
        "# es muy útil tener el diccionario opuesto que va de índices a términos\n",
        "idx2word = {v: k for k,v in tfidfvect.vocabulary_.items()}"
      ]
    },
    {
      "cell_type": "code",
      "execution_count": null,
      "metadata": {
        "colab": {
          "base_uri": "https://localhost:8080/"
        },
        "id": "swa-AgWrMSHM",
        "outputId": "2f89d0be-7542-4a3b-8504-6992346f6dac"
      },
      "outputs": [
        {
          "data": {
            "text/plain": [
              "array([ 7,  4,  4,  1, 14, 16, 13,  3,  2,  4])"
            ]
          },
          "execution_count": 10,
          "metadata": {},
          "output_type": "execute_result"
        }
      ],
      "source": [
        "# en `y_train` guardamos los targets que son enteros\n",
        "y_train = newsgroups_train.target\n",
        "y_train[:10]"
      ]
    },
    {
      "cell_type": "code",
      "execution_count": null,
      "metadata": {
        "colab": {
          "base_uri": "https://localhost:8080/"
        },
        "id": "je5kxvQMDLvf",
        "outputId": "999cf143-33b8-492b-dfe7-888fd8362601"
      },
      "outputs": [
        {
          "name": "stdout",
          "output_type": "stream",
          "text": [
            "clases [ 0  1  2  3  4  5  6  7  8  9 10 11 12 13 14 15 16 17 18 19]\n"
          ]
        },
        {
          "data": {
            "text/plain": [
              "['alt.atheism',\n",
              " 'comp.graphics',\n",
              " 'comp.os.ms-windows.misc',\n",
              " 'comp.sys.ibm.pc.hardware',\n",
              " 'comp.sys.mac.hardware',\n",
              " 'comp.windows.x',\n",
              " 'misc.forsale',\n",
              " 'rec.autos',\n",
              " 'rec.motorcycles',\n",
              " 'rec.sport.baseball',\n",
              " 'rec.sport.hockey',\n",
              " 'sci.crypt',\n",
              " 'sci.electronics',\n",
              " 'sci.med',\n",
              " 'sci.space',\n",
              " 'soc.religion.christian',\n",
              " 'talk.politics.guns',\n",
              " 'talk.politics.mideast',\n",
              " 'talk.politics.misc',\n",
              " 'talk.religion.misc']"
            ]
          },
          "execution_count": 11,
          "metadata": {},
          "output_type": "execute_result"
        }
      ],
      "source": [
        "# hay 20 clases correspondientes a los 20 grupos de noticias\n",
        "print(f'clases {np.unique(newsgroups_test.target)}')\n",
        "newsgroups_test.target_names"
      ]
    },
    {
      "cell_type": "markdown",
      "metadata": {
        "id": "SXCICFSd_y90"
      },
      "source": [
        "## Similaridad de documentos"
      ]
    },
    {
      "cell_type": "code",
      "execution_count": null,
      "metadata": {
        "colab": {
          "base_uri": "https://localhost:8080/"
        },
        "id": "_pki_olShnyE",
        "outputId": "fad15e26-3553-441b-8e90-0ba33436974e"
      },
      "outputs": [
        {
          "name": "stdout",
          "output_type": "stream",
          "text": [
            "\n",
            "/(hudson)\n",
            "/If someone inflicts pain on themselves, whether they enjoy it or not, they\n",
            "/are hurting themselves.  They may be permanently damaging their body.\n",
            "\n",
            "That is true.  It is also none of your business.  \n",
            "\n",
            "Some people may also reason that by reading the bible and being a Xtian\n",
            "you are permanently damaging your brain.  By your logic, it would be OK\n",
            "for them to come into your home, take away your bible, and send you off\n",
            "to \"re-education camps\" to save your mind from ruin.  Are you ready for\n",
            "that?  \n",
            "\n",
            "\n",
            "\n",
            "\n",
            "\n",
            "/(hudson)\n",
            "/And why is there nothing wrong with it?  Because you say so?  Who gave you\n",
            "/the authority to say that, and set the standard for morality?\n",
            "\n",
            "Why?\n",
            "\n",
            "Because: \n",
            "I am a living, thinking person able to make choices for myself.\n",
            "I do not \"need\" you to show me what you think is the way; I have observed\n",
            "too many errors in your thinking already to trust you to make up the\n",
            "rules for me.\n",
            "\n",
            "Because:\n",
            "I set the standard for my *own* morality, and I permit you to do \n",
            "the same for yourself.  I also do not try to force you to accept my rules.\n",
            "\n",
            "Because:\n",
            "Simply because you don't like what other people are doing doesn't give you\n",
            "the right to stop it, Hudson.  We are all aware that you would like for \n",
            "everyone to be like you.  However, it is obnoxious, arrogant thinking like \n",
            "yours, the \"I-know-I'm-morally-right-so-I-can-force-it-on-you\" bullshit \n",
            "that has brought us religious wars, pogroms against Jews, gay-bashing,\n",
            "and other atrocities by other people who, like you, \"knew\" they were\n",
            "morally right.\n",
            "\n",
            "\n",
            "\n",
            "\n",
            "\n",
            "(me)\n",
            "\n",
            "/(hudson)\n",
            "/Aren't you?  Aren't you indicating that I should not tell other people what\n",
            "to do?  Aren't you telling me it is wrong for me to do that? \n",
            "\n",
            "It is not a moral standard that I am presenting you with, Hudson.  It is\n",
            "a key to getting along in life with other people.  It is also a point of\n",
            "respect:  I trust other people to be intelligent enough to make their\n",
            "own choices, and I expect the same to be returned.  You, on the other\n",
            "hand, do not trust them, and want to make the choice for them--whether\n",
            "they like it or not.\n",
            "\n",
            "It is also a way to avoid an inconsistency:  if you believe that you have \n",
            "the right to set moral standards for others and interfere in their lives, \n",
            "then you must, by logic, admit that other people have the same right of \n",
            "interference in your life.  \n",
            "(Yes, I know; you will say that your religion is correct and tells you that\n",
            "only agents acting in behalf of your religion have the right of interference.\n",
            "However, other people will say that you have misinterpreted the Word of\n",
            "God and that *they* are the actual true believers, and that you are\n",
            "acting on your own authority.  And so it goes).\n",
            "\n",
            "\n",
            "\n",
            "\n",
            "\n",
            "(hudson)\n",
            "/Who gave\n",
            "/you the authority to set such a moral standard for me to tell me that I \n",
            "/cannot set a moral standard for others?\n",
            "\n",
            "\n",
            "You can set all the standards that you want, actually.  But don't be surprised\n",
            "if people don't follow you like rats after the Pied Piper.  \n",
            "\n",
            "At the most basic form, I am not going to LET you tell me what to do;\n",
            "and if necessary, I will beat you to a bloody pulp before I let you actually\n",
            "interfere in my life.\n"
          ]
        }
      ],
      "source": [
        "# Veamos similaridad de documentos. Tomemos algún documento\n",
        "idx = 8754\n",
        "print(newsgroups_train.data[idx])"
      ]
    },
    {
      "cell_type": "code",
      "execution_count": null,
      "metadata": {
        "id": "Ssa9bqJ-hA_v"
      },
      "outputs": [],
      "source": [
        "# midamos la similaridad coseno con todos los documentos de train\n",
        "cossim = cosine_similarity(X_train[idx], X_train)[0]"
      ]
    },
    {
      "cell_type": "code",
      "execution_count": null,
      "metadata": {
        "colab": {
          "base_uri": "https://localhost:8080/"
        },
        "id": "qQWdijV_-ClO",
        "outputId": "1f0d2f6f-8f7f-4611-f1bb-7d0ac148a765"
      },
      "outputs": [
        {
          "data": {
            "text/plain": [
              "array([0.11252759, 0.09561582, 0.17267024, ..., 0.09162675, 0.1121114 ,\n",
              "       0.03334953])"
            ]
          },
          "execution_count": 14,
          "metadata": {},
          "output_type": "execute_result"
        }
      ],
      "source": [
        "cossim"
      ]
    },
    {
      "cell_type": "code",
      "execution_count": null,
      "metadata": {
        "colab": {
          "base_uri": "https://localhost:8080/"
        },
        "id": "p_mDA7p3AzcQ",
        "outputId": "aee7c358-6737-471d-bfae-55dd4c5f24fa"
      },
      "outputs": [
        {
          "data": {
            "text/plain": [
              "array([1.        , 0.49040531, 0.48118373, ..., 0.        , 0.        ,\n",
              "       0.        ])"
            ]
          },
          "execution_count": 15,
          "metadata": {},
          "output_type": "execute_result"
        }
      ],
      "source": [
        "# podemos ver los valores de similaridad ordenados de mayor a menos\n",
        "np.sort(cossim)[::-1]"
      ]
    },
    {
      "cell_type": "code",
      "execution_count": null,
      "metadata": {
        "colab": {
          "base_uri": "https://localhost:8080/"
        },
        "id": "0OIhDA1jAryX",
        "outputId": "89e2b9ab-17a2-41f5-f57c-e91924978b33"
      },
      "outputs": [
        {
          "data": {
            "text/plain": [
              "array([ 8754,  6552, 10613, ...,  6988,  6980,  9520])"
            ]
          },
          "execution_count": 16,
          "metadata": {},
          "output_type": "execute_result"
        }
      ],
      "source": [
        "# y a qué documentos corresponden\n",
        "np.argsort(cossim)[::-1]"
      ]
    },
    {
      "cell_type": "code",
      "execution_count": null,
      "metadata": {
        "id": "hP7qLS4ZBLps"
      },
      "outputs": [],
      "source": [
        "# los 5 documentos más similares:\n",
        "mostsim = np.argsort(cossim)[::-1][1:6]"
      ]
    },
    {
      "cell_type": "code",
      "execution_count": null,
      "metadata": {
        "colab": {
          "base_uri": "https://localhost:8080/"
        },
        "id": "Y1SFEyIIKBOI",
        "outputId": "7eedf5df-ce67-4a0c-abaa-f135c17c697b"
      },
      "outputs": [
        {
          "data": {
            "text/plain": [
              "array([ 6552, 10613,  3616,  8726,  3902])"
            ]
          },
          "execution_count": 18,
          "metadata": {},
          "output_type": "execute_result"
        }
      ],
      "source": [
        "mostsim"
      ]
    },
    {
      "cell_type": "code",
      "execution_count": null,
      "metadata": {
        "colab": {
          "base_uri": "https://localhost:8080/",
          "height": 35
        },
        "id": "QdJLHPJACvaj",
        "outputId": "ed8b9c94-cdad-4e76-ba70-e5ed3b4119fb"
      },
      "outputs": [
        {
          "data": {
            "application/vnd.google.colaboratory.intrinsic+json": {
              "type": "string"
            },
            "text/plain": [
              "'talk.religion.misc'"
            ]
          },
          "execution_count": 19,
          "metadata": {},
          "output_type": "execute_result"
        }
      ],
      "source": [
        "# el documento original pertenece a la clase:\n",
        "newsgroups_train.target_names[y_train[idx]]"
      ]
    },
    {
      "cell_type": "code",
      "execution_count": null,
      "metadata": {
        "colab": {
          "base_uri": "https://localhost:8080/"
        },
        "id": "RWy_73epCbFG",
        "outputId": "94c2be65-7212-4aa6-f439-fc44f5d4efaf"
      },
      "outputs": [
        {
          "name": "stdout",
          "output_type": "stream",
          "text": [
            "talk.religion.misc\n",
            "talk.religion.misc\n",
            "talk.religion.misc\n",
            "talk.politics.mideast\n",
            "talk.religion.misc\n"
          ]
        }
      ],
      "source": [
        "# y los 5 más similares son de las clases:\n",
        "for i in mostsim:\n",
        "  print(newsgroups_train.target_names[y_train[i]])"
      ]
    },
    {
      "cell_type": "markdown",
      "metadata": {
        "id": "zRoNnKwhBqzq"
      },
      "source": [
        "### Modelo de clasificación Naïve Bayes"
      ]
    },
    {
      "cell_type": "code",
      "execution_count": null,
      "metadata": {
        "colab": {
          "base_uri": "https://localhost:8080/",
          "height": 80
        },
        "id": "TPM0thDaLk0R",
        "outputId": "b1ffcf65-3662-47f3-b0b2-7f178f8141d9"
      },
      "outputs": [
        {
          "data": {
            "text/html": [
              "<style>#sk-container-id-1 {\n",
              "  /* Definition of color scheme common for light and dark mode */\n",
              "  --sklearn-color-text: #000;\n",
              "  --sklearn-color-text-muted: #666;\n",
              "  --sklearn-color-line: gray;\n",
              "  /* Definition of color scheme for unfitted estimators */\n",
              "  --sklearn-color-unfitted-level-0: #fff5e6;\n",
              "  --sklearn-color-unfitted-level-1: #f6e4d2;\n",
              "  --sklearn-color-unfitted-level-2: #ffe0b3;\n",
              "  --sklearn-color-unfitted-level-3: chocolate;\n",
              "  /* Definition of color scheme for fitted estimators */\n",
              "  --sklearn-color-fitted-level-0: #f0f8ff;\n",
              "  --sklearn-color-fitted-level-1: #d4ebff;\n",
              "  --sklearn-color-fitted-level-2: #b3dbfd;\n",
              "  --sklearn-color-fitted-level-3: cornflowerblue;\n",
              "\n",
              "  /* Specific color for light theme */\n",
              "  --sklearn-color-text-on-default-background: var(--sg-text-color, var(--theme-code-foreground, var(--jp-content-font-color1, black)));\n",
              "  --sklearn-color-background: var(--sg-background-color, var(--theme-background, var(--jp-layout-color0, white)));\n",
              "  --sklearn-color-border-box: var(--sg-text-color, var(--theme-code-foreground, var(--jp-content-font-color1, black)));\n",
              "  --sklearn-color-icon: #696969;\n",
              "\n",
              "  @media (prefers-color-scheme: dark) {\n",
              "    /* Redefinition of color scheme for dark theme */\n",
              "    --sklearn-color-text-on-default-background: var(--sg-text-color, var(--theme-code-foreground, var(--jp-content-font-color1, white)));\n",
              "    --sklearn-color-background: var(--sg-background-color, var(--theme-background, var(--jp-layout-color0, #111)));\n",
              "    --sklearn-color-border-box: var(--sg-text-color, var(--theme-code-foreground, var(--jp-content-font-color1, white)));\n",
              "    --sklearn-color-icon: #878787;\n",
              "  }\n",
              "}\n",
              "\n",
              "#sk-container-id-1 {\n",
              "  color: var(--sklearn-color-text);\n",
              "}\n",
              "\n",
              "#sk-container-id-1 pre {\n",
              "  padding: 0;\n",
              "}\n",
              "\n",
              "#sk-container-id-1 input.sk-hidden--visually {\n",
              "  border: 0;\n",
              "  clip: rect(1px 1px 1px 1px);\n",
              "  clip: rect(1px, 1px, 1px, 1px);\n",
              "  height: 1px;\n",
              "  margin: -1px;\n",
              "  overflow: hidden;\n",
              "  padding: 0;\n",
              "  position: absolute;\n",
              "  width: 1px;\n",
              "}\n",
              "\n",
              "#sk-container-id-1 div.sk-dashed-wrapped {\n",
              "  border: 1px dashed var(--sklearn-color-line);\n",
              "  margin: 0 0.4em 0.5em 0.4em;\n",
              "  box-sizing: border-box;\n",
              "  padding-bottom: 0.4em;\n",
              "  background-color: var(--sklearn-color-background);\n",
              "}\n",
              "\n",
              "#sk-container-id-1 div.sk-container {\n",
              "  /* jupyter's `normalize.less` sets `[hidden] { display: none; }`\n",
              "     but bootstrap.min.css set `[hidden] { display: none !important; }`\n",
              "     so we also need the `!important` here to be able to override the\n",
              "     default hidden behavior on the sphinx rendered scikit-learn.org.\n",
              "     See: https://github.com/scikit-learn/scikit-learn/issues/21755 */\n",
              "  display: inline-block !important;\n",
              "  position: relative;\n",
              "}\n",
              "\n",
              "#sk-container-id-1 div.sk-text-repr-fallback {\n",
              "  display: none;\n",
              "}\n",
              "\n",
              "div.sk-parallel-item,\n",
              "div.sk-serial,\n",
              "div.sk-item {\n",
              "  /* draw centered vertical line to link estimators */\n",
              "  background-image: linear-gradient(var(--sklearn-color-text-on-default-background), var(--sklearn-color-text-on-default-background));\n",
              "  background-size: 2px 100%;\n",
              "  background-repeat: no-repeat;\n",
              "  background-position: center center;\n",
              "}\n",
              "\n",
              "/* Parallel-specific style estimator block */\n",
              "\n",
              "#sk-container-id-1 div.sk-parallel-item::after {\n",
              "  content: \"\";\n",
              "  width: 100%;\n",
              "  border-bottom: 2px solid var(--sklearn-color-text-on-default-background);\n",
              "  flex-grow: 1;\n",
              "}\n",
              "\n",
              "#sk-container-id-1 div.sk-parallel {\n",
              "  display: flex;\n",
              "  align-items: stretch;\n",
              "  justify-content: center;\n",
              "  background-color: var(--sklearn-color-background);\n",
              "  position: relative;\n",
              "}\n",
              "\n",
              "#sk-container-id-1 div.sk-parallel-item {\n",
              "  display: flex;\n",
              "  flex-direction: column;\n",
              "}\n",
              "\n",
              "#sk-container-id-1 div.sk-parallel-item:first-child::after {\n",
              "  align-self: flex-end;\n",
              "  width: 50%;\n",
              "}\n",
              "\n",
              "#sk-container-id-1 div.sk-parallel-item:last-child::after {\n",
              "  align-self: flex-start;\n",
              "  width: 50%;\n",
              "}\n",
              "\n",
              "#sk-container-id-1 div.sk-parallel-item:only-child::after {\n",
              "  width: 0;\n",
              "}\n",
              "\n",
              "/* Serial-specific style estimator block */\n",
              "\n",
              "#sk-container-id-1 div.sk-serial {\n",
              "  display: flex;\n",
              "  flex-direction: column;\n",
              "  align-items: center;\n",
              "  background-color: var(--sklearn-color-background);\n",
              "  padding-right: 1em;\n",
              "  padding-left: 1em;\n",
              "}\n",
              "\n",
              "\n",
              "/* Toggleable style: style used for estimator/Pipeline/ColumnTransformer box that is\n",
              "clickable and can be expanded/collapsed.\n",
              "- Pipeline and ColumnTransformer use this feature and define the default style\n",
              "- Estimators will overwrite some part of the style using the `sk-estimator` class\n",
              "*/\n",
              "\n",
              "/* Pipeline and ColumnTransformer style (default) */\n",
              "\n",
              "#sk-container-id-1 div.sk-toggleable {\n",
              "  /* Default theme specific background. It is overwritten whether we have a\n",
              "  specific estimator or a Pipeline/ColumnTransformer */\n",
              "  background-color: var(--sklearn-color-background);\n",
              "}\n",
              "\n",
              "/* Toggleable label */\n",
              "#sk-container-id-1 label.sk-toggleable__label {\n",
              "  cursor: pointer;\n",
              "  display: flex;\n",
              "  width: 100%;\n",
              "  margin-bottom: 0;\n",
              "  padding: 0.5em;\n",
              "  box-sizing: border-box;\n",
              "  text-align: center;\n",
              "  align-items: start;\n",
              "  justify-content: space-between;\n",
              "  gap: 0.5em;\n",
              "}\n",
              "\n",
              "#sk-container-id-1 label.sk-toggleable__label .caption {\n",
              "  font-size: 0.6rem;\n",
              "  font-weight: lighter;\n",
              "  color: var(--sklearn-color-text-muted);\n",
              "}\n",
              "\n",
              "#sk-container-id-1 label.sk-toggleable__label-arrow:before {\n",
              "  /* Arrow on the left of the label */\n",
              "  content: \"▸\";\n",
              "  float: left;\n",
              "  margin-right: 0.25em;\n",
              "  color: var(--sklearn-color-icon);\n",
              "}\n",
              "\n",
              "#sk-container-id-1 label.sk-toggleable__label-arrow:hover:before {\n",
              "  color: var(--sklearn-color-text);\n",
              "}\n",
              "\n",
              "/* Toggleable content - dropdown */\n",
              "\n",
              "#sk-container-id-1 div.sk-toggleable__content {\n",
              "  max-height: 0;\n",
              "  max-width: 0;\n",
              "  overflow: hidden;\n",
              "  text-align: left;\n",
              "  /* unfitted */\n",
              "  background-color: var(--sklearn-color-unfitted-level-0);\n",
              "}\n",
              "\n",
              "#sk-container-id-1 div.sk-toggleable__content.fitted {\n",
              "  /* fitted */\n",
              "  background-color: var(--sklearn-color-fitted-level-0);\n",
              "}\n",
              "\n",
              "#sk-container-id-1 div.sk-toggleable__content pre {\n",
              "  margin: 0.2em;\n",
              "  border-radius: 0.25em;\n",
              "  color: var(--sklearn-color-text);\n",
              "  /* unfitted */\n",
              "  background-color: var(--sklearn-color-unfitted-level-0);\n",
              "}\n",
              "\n",
              "#sk-container-id-1 div.sk-toggleable__content.fitted pre {\n",
              "  /* unfitted */\n",
              "  background-color: var(--sklearn-color-fitted-level-0);\n",
              "}\n",
              "\n",
              "#sk-container-id-1 input.sk-toggleable__control:checked~div.sk-toggleable__content {\n",
              "  /* Expand drop-down */\n",
              "  max-height: 200px;\n",
              "  max-width: 100%;\n",
              "  overflow: auto;\n",
              "}\n",
              "\n",
              "#sk-container-id-1 input.sk-toggleable__control:checked~label.sk-toggleable__label-arrow:before {\n",
              "  content: \"▾\";\n",
              "}\n",
              "\n",
              "/* Pipeline/ColumnTransformer-specific style */\n",
              "\n",
              "#sk-container-id-1 div.sk-label input.sk-toggleable__control:checked~label.sk-toggleable__label {\n",
              "  color: var(--sklearn-color-text);\n",
              "  background-color: var(--sklearn-color-unfitted-level-2);\n",
              "}\n",
              "\n",
              "#sk-container-id-1 div.sk-label.fitted input.sk-toggleable__control:checked~label.sk-toggleable__label {\n",
              "  background-color: var(--sklearn-color-fitted-level-2);\n",
              "}\n",
              "\n",
              "/* Estimator-specific style */\n",
              "\n",
              "/* Colorize estimator box */\n",
              "#sk-container-id-1 div.sk-estimator input.sk-toggleable__control:checked~label.sk-toggleable__label {\n",
              "  /* unfitted */\n",
              "  background-color: var(--sklearn-color-unfitted-level-2);\n",
              "}\n",
              "\n",
              "#sk-container-id-1 div.sk-estimator.fitted input.sk-toggleable__control:checked~label.sk-toggleable__label {\n",
              "  /* fitted */\n",
              "  background-color: var(--sklearn-color-fitted-level-2);\n",
              "}\n",
              "\n",
              "#sk-container-id-1 div.sk-label label.sk-toggleable__label,\n",
              "#sk-container-id-1 div.sk-label label {\n",
              "  /* The background is the default theme color */\n",
              "  color: var(--sklearn-color-text-on-default-background);\n",
              "}\n",
              "\n",
              "/* On hover, darken the color of the background */\n",
              "#sk-container-id-1 div.sk-label:hover label.sk-toggleable__label {\n",
              "  color: var(--sklearn-color-text);\n",
              "  background-color: var(--sklearn-color-unfitted-level-2);\n",
              "}\n",
              "\n",
              "/* Label box, darken color on hover, fitted */\n",
              "#sk-container-id-1 div.sk-label.fitted:hover label.sk-toggleable__label.fitted {\n",
              "  color: var(--sklearn-color-text);\n",
              "  background-color: var(--sklearn-color-fitted-level-2);\n",
              "}\n",
              "\n",
              "/* Estimator label */\n",
              "\n",
              "#sk-container-id-1 div.sk-label label {\n",
              "  font-family: monospace;\n",
              "  font-weight: bold;\n",
              "  display: inline-block;\n",
              "  line-height: 1.2em;\n",
              "}\n",
              "\n",
              "#sk-container-id-1 div.sk-label-container {\n",
              "  text-align: center;\n",
              "}\n",
              "\n",
              "/* Estimator-specific */\n",
              "#sk-container-id-1 div.sk-estimator {\n",
              "  font-family: monospace;\n",
              "  border: 1px dotted var(--sklearn-color-border-box);\n",
              "  border-radius: 0.25em;\n",
              "  box-sizing: border-box;\n",
              "  margin-bottom: 0.5em;\n",
              "  /* unfitted */\n",
              "  background-color: var(--sklearn-color-unfitted-level-0);\n",
              "}\n",
              "\n",
              "#sk-container-id-1 div.sk-estimator.fitted {\n",
              "  /* fitted */\n",
              "  background-color: var(--sklearn-color-fitted-level-0);\n",
              "}\n",
              "\n",
              "/* on hover */\n",
              "#sk-container-id-1 div.sk-estimator:hover {\n",
              "  /* unfitted */\n",
              "  background-color: var(--sklearn-color-unfitted-level-2);\n",
              "}\n",
              "\n",
              "#sk-container-id-1 div.sk-estimator.fitted:hover {\n",
              "  /* fitted */\n",
              "  background-color: var(--sklearn-color-fitted-level-2);\n",
              "}\n",
              "\n",
              "/* Specification for estimator info (e.g. \"i\" and \"?\") */\n",
              "\n",
              "/* Common style for \"i\" and \"?\" */\n",
              "\n",
              ".sk-estimator-doc-link,\n",
              "a:link.sk-estimator-doc-link,\n",
              "a:visited.sk-estimator-doc-link {\n",
              "  float: right;\n",
              "  font-size: smaller;\n",
              "  line-height: 1em;\n",
              "  font-family: monospace;\n",
              "  background-color: var(--sklearn-color-background);\n",
              "  border-radius: 1em;\n",
              "  height: 1em;\n",
              "  width: 1em;\n",
              "  text-decoration: none !important;\n",
              "  margin-left: 0.5em;\n",
              "  text-align: center;\n",
              "  /* unfitted */\n",
              "  border: var(--sklearn-color-unfitted-level-1) 1pt solid;\n",
              "  color: var(--sklearn-color-unfitted-level-1);\n",
              "}\n",
              "\n",
              ".sk-estimator-doc-link.fitted,\n",
              "a:link.sk-estimator-doc-link.fitted,\n",
              "a:visited.sk-estimator-doc-link.fitted {\n",
              "  /* fitted */\n",
              "  border: var(--sklearn-color-fitted-level-1) 1pt solid;\n",
              "  color: var(--sklearn-color-fitted-level-1);\n",
              "}\n",
              "\n",
              "/* On hover */\n",
              "div.sk-estimator:hover .sk-estimator-doc-link:hover,\n",
              ".sk-estimator-doc-link:hover,\n",
              "div.sk-label-container:hover .sk-estimator-doc-link:hover,\n",
              ".sk-estimator-doc-link:hover {\n",
              "  /* unfitted */\n",
              "  background-color: var(--sklearn-color-unfitted-level-3);\n",
              "  color: var(--sklearn-color-background);\n",
              "  text-decoration: none;\n",
              "}\n",
              "\n",
              "div.sk-estimator.fitted:hover .sk-estimator-doc-link.fitted:hover,\n",
              ".sk-estimator-doc-link.fitted:hover,\n",
              "div.sk-label-container:hover .sk-estimator-doc-link.fitted:hover,\n",
              ".sk-estimator-doc-link.fitted:hover {\n",
              "  /* fitted */\n",
              "  background-color: var(--sklearn-color-fitted-level-3);\n",
              "  color: var(--sklearn-color-background);\n",
              "  text-decoration: none;\n",
              "}\n",
              "\n",
              "/* Span, style for the box shown on hovering the info icon */\n",
              ".sk-estimator-doc-link span {\n",
              "  display: none;\n",
              "  z-index: 9999;\n",
              "  position: relative;\n",
              "  font-weight: normal;\n",
              "  right: .2ex;\n",
              "  padding: .5ex;\n",
              "  margin: .5ex;\n",
              "  width: min-content;\n",
              "  min-width: 20ex;\n",
              "  max-width: 50ex;\n",
              "  color: var(--sklearn-color-text);\n",
              "  box-shadow: 2pt 2pt 4pt #999;\n",
              "  /* unfitted */\n",
              "  background: var(--sklearn-color-unfitted-level-0);\n",
              "  border: .5pt solid var(--sklearn-color-unfitted-level-3);\n",
              "}\n",
              "\n",
              ".sk-estimator-doc-link.fitted span {\n",
              "  /* fitted */\n",
              "  background: var(--sklearn-color-fitted-level-0);\n",
              "  border: var(--sklearn-color-fitted-level-3);\n",
              "}\n",
              "\n",
              ".sk-estimator-doc-link:hover span {\n",
              "  display: block;\n",
              "}\n",
              "\n",
              "/* \"?\"-specific style due to the `<a>` HTML tag */\n",
              "\n",
              "#sk-container-id-1 a.estimator_doc_link {\n",
              "  float: right;\n",
              "  font-size: 1rem;\n",
              "  line-height: 1em;\n",
              "  font-family: monospace;\n",
              "  background-color: var(--sklearn-color-background);\n",
              "  border-radius: 1rem;\n",
              "  height: 1rem;\n",
              "  width: 1rem;\n",
              "  text-decoration: none;\n",
              "  /* unfitted */\n",
              "  color: var(--sklearn-color-unfitted-level-1);\n",
              "  border: var(--sklearn-color-unfitted-level-1) 1pt solid;\n",
              "}\n",
              "\n",
              "#sk-container-id-1 a.estimator_doc_link.fitted {\n",
              "  /* fitted */\n",
              "  border: var(--sklearn-color-fitted-level-1) 1pt solid;\n",
              "  color: var(--sklearn-color-fitted-level-1);\n",
              "}\n",
              "\n",
              "/* On hover */\n",
              "#sk-container-id-1 a.estimator_doc_link:hover {\n",
              "  /* unfitted */\n",
              "  background-color: var(--sklearn-color-unfitted-level-3);\n",
              "  color: var(--sklearn-color-background);\n",
              "  text-decoration: none;\n",
              "}\n",
              "\n",
              "#sk-container-id-1 a.estimator_doc_link.fitted:hover {\n",
              "  /* fitted */\n",
              "  background-color: var(--sklearn-color-fitted-level-3);\n",
              "}\n",
              "</style><div id=\"sk-container-id-1\" class=\"sk-top-container\"><div class=\"sk-text-repr-fallback\"><pre>MultinomialNB()</pre><b>In a Jupyter environment, please rerun this cell to show the HTML representation or trust the notebook. <br />On GitHub, the HTML representation is unable to render, please try loading this page with nbviewer.org.</b></div><div class=\"sk-container\" hidden><div class=\"sk-item\"><div class=\"sk-estimator fitted sk-toggleable\"><input class=\"sk-toggleable__control sk-hidden--visually\" id=\"sk-estimator-id-1\" type=\"checkbox\" checked><label for=\"sk-estimator-id-1\" class=\"sk-toggleable__label fitted sk-toggleable__label-arrow\"><div><div>MultinomialNB</div></div><div><a class=\"sk-estimator-doc-link fitted\" rel=\"noreferrer\" target=\"_blank\" href=\"https://scikit-learn.org/1.6/modules/generated/sklearn.naive_bayes.MultinomialNB.html\">?<span>Documentation for MultinomialNB</span></a><span class=\"sk-estimator-doc-link fitted\">i<span>Fitted</span></span></div></label><div class=\"sk-toggleable__content fitted\"><pre>MultinomialNB()</pre></div> </div></div></div></div>"
            ],
            "text/plain": [
              "MultinomialNB()"
            ]
          },
          "execution_count": 21,
          "metadata": {},
          "output_type": "execute_result"
        }
      ],
      "source": [
        "# es muy fácil instanciar un modelo de clasificación Naïve Bayes y entrenarlo con sklearn\n",
        "clf = MultinomialNB()\n",
        "clf.fit(X_train, y_train)"
      ]
    },
    {
      "cell_type": "code",
      "execution_count": null,
      "metadata": {
        "id": "NrQjzM48Mu4T"
      },
      "outputs": [],
      "source": [
        "# con nuestro vectorizador ya fiteado en train, vectorizamos los textos\n",
        "# del conjunto de test\n",
        "X_test = tfidfvect.transform(newsgroups_test.data)\n",
        "y_test = newsgroups_test.target\n",
        "y_pred =  clf.predict(X_test)"
      ]
    },
    {
      "cell_type": "code",
      "execution_count": null,
      "metadata": {
        "colab": {
          "base_uri": "https://localhost:8080/"
        },
        "id": "UkGJhetEPdA4",
        "outputId": "928a36be-0fbc-48d6-85f5-7393250cbe72"
      },
      "outputs": [
        {
          "data": {
            "text/plain": [
              "0.5854345727938506"
            ]
          },
          "execution_count": 23,
          "metadata": {},
          "output_type": "execute_result"
        }
      ],
      "source": [
        "# el F1-score es una metrica adecuada para reportar desempeño de modelos de claificación\n",
        "# es robusta al desbalance de clases. El promediado 'macro' es el promedio de los\n",
        "# F1-score de cada clase. El promedio 'micro' es equivalente a la accuracy que no\n",
        "# es una buena métrica cuando los datasets son desbalanceados\n",
        "f1_score(y_test, y_pred, average='macro')"
      ]
    },
    {
      "cell_type": "markdown",
      "metadata": {
        "id": "McArD4rSDR2K"
      },
      "source": [
        "### Consigna del desafío\n"
      ]
    },
    {
      "cell_type": "markdown",
      "metadata": {
        "id": "lJgf6GQIIEH1"
      },
      "source": [
        "**1**. Vectorizar documentos. Tomar 5 documentos al azar y medir similaridad con el resto de los documentos.\n",
        "Estudiar los 5 documentos más similares de cada uno analizar si tiene sentido\n",
        "la similaridad según el contenido del texto y la etiqueta de clasificación.\n",
        "\n",
        "**No puedes usar la misma solución ya presentada por alguien en el foro antes que Ud. Es decir, sus 5 documentos al azar deben ser diferentes a los ya presentados, o las palabras que elija para el ejercicio 3 deben ser diferentes a las ya presentadas.**\n",
        "\n"
      ]
    },
    {
      "cell_type": "code",
      "execution_count": null,
      "metadata": {
        "colab": {
          "base_uri": "https://localhost:8080/"
        },
        "id": "dqFwQL_iW81Y",
        "outputId": "f6a433d0-4c78-4a7e-80d5-ba2ef8b2080d"
      },
      "outputs": [
        {
          "name": "stdout",
          "output_type": "stream",
          "text": [
            "==========================================================================================\n",
            "📄 Documento elegido (ID 1715)\n",
            "Categoría: comp.os.ms-windows.misc\n",
            "\n",
            "From: eric@tgm.CAM.ORG (Eric Trepanier) Subject: More Cool BMP files?? Reply-To: eric@tgm.CAM.ORG Organization: Bell Sygma, Revenue Systems Development Lines: 27   In article <1993Apr17.023017.17301@gmuvax2.gmu.edu> rwang@gmuvax2.gmu.edu writes:   >   > Hi, everybody:  >     I guess my subject has said it all.  It is getting boring  > looking at those same old bmp files that came with Windows.  So...\n",
            "\n",
            ">>> Documentos más similares:\n",
            "- ID 14497 | Similitud: 0.661 | Categoría: comp.os.ms-windows.misc\n",
            "   From: rwang@gmuvax2.gmu.edu (John Wang) Subject: More Cool BMP files?? Distribution: usa Organization: George Mason University, Fairfax, Virginia, USA Lines: 13  Hi, everybody:     I guess my subject ...\n",
            "\n",
            "- ID 1305 | Similitud: 0.577 | Categoría: comp.os.ms-windows.misc\n",
            "   From: rfweber@bcstec.ca.boeing.com (Robert F. Weber) Subject: Re: More Cool BMP files?? Article-I.D.: bcstec.C5wL0r.6MB Distribution: usa Organization: Boeing Computer Services Lines: 30  james@dlss2 ...\n",
            "\n",
            "- ID 4698 | Similitud: 0.552 | Categoría: comp.os.ms-windows.misc\n",
            "   From: ccastco@prism.gatech.EDU (Constantinos Malamas) Subject: Re: More Cool BMP files?? Organization: Georgia Institute of Technology Lines: 31  >In article <1993Apr17.023017.17301@gmuvax2.gmu.edu> r...\n",
            "\n",
            "- ID 12506 | Similitud: 0.537 | Categoría: comp.graphics\n",
            "   From: eric.vitiello@tfd.coplex.com (Eric Vitiello) Subject: .GIF to .BMP Reply-To: eric.vitiello@tfd.coplex.com (Eric Vitiello) Organization: Ky/In PC User's Group - Louisville, KY - 502-423-8654 Line...\n",
            "\n",
            "- ID 8054 | Similitud: 0.536 | Categoría: comp.os.ms-windows.misc\n",
            "   From: adair@atldbs.dbsoftware.com (Owen Adair) Subject: Re: More Cool BMP files?? Distribution: usa Lines: 35 Organization: Dun & Bradstreet Software  In article <1993Apr20.173506.2288@dlss2> james@dl...\n",
            "\n",
            "==========================================================================================\n",
            "📄 Documento elegido (ID 8771)\n",
            "Categoría: talk.politics.misc\n",
            "\n",
            "From: mcgoy@unicorn.acs.ttu.edu (David McGaughey) Subject: Re: high speed rail is bad Organization: Texas Tech University Distribution: tx Lines: 32  bmich@cs.utexas.edu (Brian Keith Michalk) writes: > \tA few weeks ago I found out about some of the politics that > is going on with the Texas bullet train, and was appalled at some > of the apparent underhanded tactics to push this thing through > wi...\n",
            "\n",
            ">>> Documentos más similares:\n",
            "- ID 2839 | Similitud: 0.640 | Categoría: talk.politics.misc\n",
            "   From: bmich@cs.utexas.edu (Brian Keith Michalk) Subject: Re: high speed rail is bad Organization: CS Dept, University of Texas at Austin Lines: 16 Distribution: tx NNTP-Posting-Host: coltexo.cs.utexas...\n",
            "\n",
            "- ID 16252 | Similitud: 0.264 | Categoría: talk.politics.misc\n",
            "   From: bmich@cs.utexas.edu (Brian Keith Michalk) Subject: Re: high speed rail is bad Organization: CS Dept, University of Texas at Austin Lines: 14 Distribution: tx NNTP-Posting-Host: coltexo.cs.utexas...\n",
            "\n",
            "- ID 9577 | Similitud: 0.252 | Categoría: rec.autos\n",
            "   From: dje@bmw535.NoSubdomain.NoDomain (Don Eilenberger) Subject: Re: Do trains have radar? Organization: Bellcore, Livingston, NJ Lines: 30  In article <1993Apr13.111652@usho72.hou281.chevron.com>, hh...\n",
            "\n",
            "- ID 2401 | Similitud: 0.217 | Categoría: rec.autos\n",
            "   From: bmoss@grinch.sim.es.com (Brent \"Woody\" Moss) Subject: Re: Do trains have radar? Nntp-Posting-Host: 130.187.200.5 Organization: Evans & Sutherland Computer Corp., Salt Lake City, UT Lines: 34  In...\n",
            "\n",
            "- ID 7504 | Similitud: 0.206 | Categoría: talk.religion.misc\n",
            "   From: halat@pooh.bears (Jim Halat) Subject: Re: After 2000 years, can we say that Christian Morality is Reply-To: halat@pooh.bears (Jim Halat) Lines: 45  In article <1r3qab$o1v@horus.ap.mchp.sni.de>, ...\n",
            "\n",
            "==========================================================================================\n",
            "📄 Documento elegido (ID 2856)\n",
            "Categoría: talk.politics.mideast\n",
            "\n",
            "From: bh437292@longs.LANCE.ColoState.Edu (Basil Hamdan) Subject: Re: was:Go Hezbollah! Reply-To: bh437292@lance.colostate.edu Nntp-Posting-Host: parry.lance.colostate.edu Organization: Engineering College, Colorado State University Lines: 101  In article <SHAIG.93Apr15220200@composer.think.com>, shaig@composer.think.com (Shai Guday) writes:  |>    [snip] |>    imagine ????  It is NOT a \"terrorist ...\n",
            "\n",
            ">>> Documentos más similares:\n",
            "- ID 14682 | Similitud: 0.737 | Categoría: talk.politics.mideast\n",
            "   From: shaig@Think.COM (Shai Guday) Subject: Re: was:Go Hezbollah! Organization: Thinking Machines Corporation, Cambridge MA, USA Lines: 80 Distribution: world NNTP-Posting-Host: composer.think.com  In...\n",
            "\n",
            "- ID 18838 | Similitud: 0.720 | Categoría: talk.politics.mideast\n",
            "   From: shaig@composer.think.com (Shai Guday) Subject: Re: was:Go Hezbollah! Organization: Thinking Machines Corporation, Cambridge MA, USA Lines: 78 \t<Apr15.175334.72079@yuma.ACNS.ColoState.EDU> NNTP-P...\n",
            "\n",
            "- ID 10917 | Similitud: 0.661 | Categoría: talk.politics.mideast\n",
            "   From: bh437292@longs.LANCE.ColoState.Edu (Basil Hamdan) Subject: RE: was:Go Hezbollah! Reply-To: bh437292@lance.colostate.edu Nntp-Posting-Host: parry.lance.colostate.edu Organization: Engineering Col...\n",
            "\n",
            "- ID 5845 | Similitud: 0.614 | Categoría: talk.politics.mideast\n",
            "   From: hernlem@chess.ncsu.edu (Brad Hernlem) Subject: Re: was:Go Hezbollah! Reply-To: hernlem@chess.ncsu.edu (Brad Hernlem) Organization: NCSU Chem Eng Lines: 128   In article <2BCE0918.6105@news.servi...\n",
            "\n",
            "- ID 4631 | Similitud: 0.605 | Categoría: talk.politics.mideast\n",
            "   From: bh437292@longs.LANCE.ColoState.Edu (Basil Hamdan) Subject: Re: was:Go Hezbollah! Reply-To: bh437292@lance.colostate.edu Nntp-Posting-Host: parry.lance.colostate.edu Organization: Engineering Col...\n",
            "\n",
            "==========================================================================================\n",
            "📄 Documento elegido (ID 13344)\n",
            "Categoría: rec.sport.hockey\n",
            "\n",
            "From: dvb@ick (David Van Beveren) Subject: Sad day for hockey Organization: Sunsoft Inc., Los Angeles, CA. Lines: 59 NNTP-Posting-Host: ick X-Newsreader: Tin 1.1 PL3  ee0i+@andrew.cmu.edu (\"Ethan Z. Evans\") writes: :  : Of course, penalties will have to be changed: :  : Roughing:\tChauvanistic Males Being Aggressive : Slashing:\tChauvanistic Males Venting Frustration : Fighting:\tProof That Males Can...\n",
            "\n",
            ">>> Documentos más similares:\n",
            "- ID 7679 | Similitud: 0.734 | Categoría: rec.sport.hockey\n",
            "   From: mjr4u@Virginia.EDU (\"Matthew J. Rush\") Subject: Re: Sad day for hockey Article-I.D.: Virginia.1993Apr6.172016.212 Organization: University of Virginia Lines: 50  dvb@ick  writes: >  > 1. Foul (A...\n",
            "\n",
            "- ID 5246 | Similitud: 0.613 | Categoría: rec.sport.hockey\n",
            "   From: kkeller@mail.sas.upenn.edu (Keith Keller) Subject: Re: Sad day for hockey Article-I.D.: netnews.118520 Organization: University of Pennsylvania, School of Arts and Sciences Lines: 39 Nntp-Postin...\n",
            "\n",
            "- ID 13450 | Similitud: 0.322 | Categoría: rec.sport.hockey\n",
            "   From: chuck@mks.com (Chuck Lownie) Subject: Re: Leafs vs Wings Organization: Mortice Kern Systems Inc., Waterloo, Ontario, CANADA Lines: 42  In article <16BB89B12.LMARSHA@cms.cc.wayne.edu> LMARSHA@cms...\n",
            "\n",
            "- ID 15246 | Similitud: 0.307 | Categoría: rec.sport.hockey\n",
            "   From: etxonss@ufsa.ericsson.se (Staffan Axelsson) Subject: WC 93: Results, April 20 Organization: Ericsson Telecom, Stockholm, Sweden Lines: 162 Nntp-Posting-Host: uipc104.ericsson.se    1993 World Ch...\n",
            "\n",
            "- ID 13708 | Similitud: 0.307 | Categoría: rec.sport.hockey\n",
            "   Subject: Re: Nords 3 - Habs 2 in O.T. We was robbed!! From: caldwell8102@mtroyal.ab.ca Organization: Mount Royal College, Calgary, Alberta Lines: 21   In article <18APR93.25909598.0086@VM1.MCGILL.CA> ...\n",
            "\n",
            "==========================================================================================\n",
            "📄 Documento elegido (ID 8734)\n",
            "Categoría: sci.med\n",
            "\n",
            "From: jchen@wind.bellcore.com (Jason Chen) Subject: Re: Is MSG sensitivity superstition? Nntp-Posting-Host: wind.bellcore.com Reply-To: jchen@ctt.bellcore.com Organization: Bell Communications Research Lines: 21  In article <1993Apr15.135941.16105@lmpsbbs.comm.mot.com>, dougb@comm.mot.com (Doug Bank) writes:  |> I woke up at 2 AM and puked my guts outs. |> I threw up for so long that (I'm not kidd...\n",
            "\n",
            ">>> Documentos más similares:\n",
            "- ID 14699 | Similitud: 0.773 | Categoría: sci.med\n",
            "   From: slyx0@cc.usu.edu Subject: Re: Is MSG sensitivity superstition? Organization: Utah State University Lines: 37  In article <1993Apr15.190711.22190@walter.bellcore.com>, jchen@wind.bellcore.com (Ja...\n",
            "\n",
            "- ID 12341 | Similitud: 0.609 | Categoría: sci.med\n",
            "   From: jchen@wind.bellcore.com (Jason Chen) Subject: Re: Is MSG sensitivity superstition? Nntp-Posting-Host: wind.bellcore.com Reply-To: jchen@ctt.bellcore.com Organization: Bell Communications Researc...\n",
            "\n",
            "- ID 3971 | Similitud: 0.590 | Categoría: sci.med\n",
            "   From: jchen@wind.bellcore.com (Jason Chen) Subject: Re: Is MSG sensitivity superstition? Nntp-Posting-Host: wind.bellcore.com Reply-To: jchen@ctt.bellcore.com Organization: Bell Communications Researc...\n",
            "\n",
            "- ID 16146 | Similitud: 0.538 | Categoría: rec.autos\n",
            "   From: jchen@wind.bellcore.com (Jason Chen) Subject: Re: Ad said Nissan Altima best seller? Reply-To: jchen@ctt.bellcore.com Organization: Bell Communications Research Lines: 1 Nntp-Posting-Host: wind....\n",
            "\n",
            "- ID 4468 | Similitud: 0.507 | Categoría: sci.med\n",
            "   From: nash@biologysx.lan.nrc.ca (John Nash) Subject: Re: Is MSG sensitivity superstition? Nntp-Posting-Host: 132.246.164.10 Organization: National Research Council of Canada Lines: 39  In article <199...\n",
            "\n"
          ]
        }
      ],
      "source": [
        "import random #para seleccionar documentos al azar.\n",
        "import numpy as np\n",
        "from sklearn.datasets import fetch_20newsgroups #carga el dataset de 20 Newsgroups\n",
        "from sklearn.feature_extraction.text import TfidfVectorizer #convierte texto a vectores numéricos usando TF-IDF.\n",
        "from sklearn.metrics.pairwise import cosine_similarity #mide qué tan parecidos son dos vectores\n",
        "\n",
        "# 1. Cargar dataset (20 newsgroups completo)\n",
        "newsgroups = fetch_20newsgroups(subset=\"all\")\n",
        "docs = newsgroups.data #lista de textos\n",
        "labels = newsgroups.target #categoría de cada documento\n",
        "label_names = newsgroups.target_names #nombres de las categorías (ej: \"comp.graphics\", \"sci.space\", etc.).\n",
        "\n",
        "# 2. Vectorizar con TF-IDF\n",
        "vectorizer = TfidfVectorizer(stop_words=\"english\", max_features=5000)\n",
        "#Convierte cada documento en un vector de 5000 dimensiones\n",
        "#stop_words=\"english\" filtra palabras comunes como the, is, and.\n",
        "X = vectorizer.fit_transform(docs)\n",
        "\n",
        "# 3. Seleccionar 5 documentos al azar\n",
        "random.seed(123)  # fijamos semilla por reproducibilidad\n",
        "sample_ids = random.sample(range(len(docs)), 5) #Elige 5 IDs de documentos distintos al azar\n",
        "\n",
        "# 4. Calcular similaridad coseno\n",
        "similarities = cosine_similarity(X)\n",
        "\n",
        "# 5. Para cada documento elegido, mostrar sus 5 más similares\n",
        "for idx in sample_ids:\n",
        "    print(\"=\"*90)\n",
        "    print(f\"📄 Documento elegido (ID {idx})\")\n",
        "    print(f\"Categoría: {label_names[labels[idx]]}\\n\")\n",
        "    print(docs[idx][:400].replace(\"\\n\",\" \") + \"...\\n\")  # fragmento del texto\n",
        "\n",
        "    # Ranking de similaridad\n",
        "    sim_scores = list(enumerate(similarities[idx]))\n",
        "    sim_scores = sorted(sim_scores, key=lambda x: x[1], reverse=True)\n",
        "    top5 = [doc_id for doc_id, score in sim_scores[1:6]]\n",
        "    #Lista todos los demás con su score de similitud\n",
        "    #Ordena de mayor a menor.\n",
        "    #Se queda con los 5 más parecidos (excluyendo el mismo documento)\n",
        "\n",
        "    print(\">>> Documentos más similares:\")\n",
        "    for j in top5:\n",
        "        print(f\"- ID {j} | Similitud: {similarities[idx,j]:.3f} \"\n",
        "              f\"| Categoría: {label_names[labels[j]]}\")\n",
        "        print(\"  \", docs[j][:200].replace(\"\\n\",\" \") + \"...\\n\")"
      ]
    },
    {
      "cell_type": "markdown",
      "metadata": {
        "id": "KIhKnDzbl1io"
      },
      "source": []
    },
    {
      "cell_type": "markdown",
      "metadata": {
        "id": "JS1u_5kle7U8"
      },
      "source": [
        "\n",
        "\n",
        "**2**. Transponer la matriz documento-término. De esa manera se obtiene una matriz\n",
        "término-documento que puede ser interpretada como una colección de vectorización de palabras.\n",
        "Estudiar ahora similaridad entre palabras tomando 5 palabras y estudiando sus 5 más similares. **La elección de palabras no debe ser al azar para evitar la aparición de términos poco interpretables, elegirlas \"manualmente\"**."
      ]
    },
    {
      "cell_type": "code",
      "execution_count": null,
      "metadata": {
        "colab": {
          "base_uri": "https://localhost:8080/"
        },
        "id": "DmfG6DCYW9Kt",
        "outputId": "04ae1cdf-c137-46d8-9815-760c1ef16c27"
      },
      "outputs": [
        {
          "name": "stdout",
          "output_type": "stream",
          "text": [
            "================================================================================\n",
            "🔹 Palabra: 'hockey'\n",
            "Palabras más similares: ['espn', 'sport', 'nhl', 'game', 'team']\n",
            "================================================================================\n",
            "🔹 Palabra: 'windows'\n",
            "Palabras más similares: ['dos', 'ms', 'os', 'run', 'file']\n",
            "================================================================================\n",
            "🔹 Palabra: 'space'\n",
            "Palabras más similares: ['shuttle', 'sender', 'digest', 'sci', 'isu']\n",
            "================================================================================\n",
            "🔹 Palabra: 'jesus'\n",
            "Palabras más similares: ['christ', 'god', 'disciples', 'christian', 'christians']\n",
            "================================================================================\n",
            "🔹 Palabra: 'game'\n",
            "Palabras más similares: ['games', 'espn', 'hockey', 'baseball', 'scored']\n"
          ]
        }
      ],
      "source": [
        "import numpy as np\n",
        "from sklearn.datasets import fetch_20newsgroups #carga un dataset de artículos de foros de noticias\n",
        "from sklearn.feature_extraction.text import TfidfVectorizer #convierte documentos en una matriz de TF-IDF\n",
        "from sklearn.metrics.pairwise import cosine_similarity #mide la similaridad entre vectores usando el coseno\n",
        "\n",
        "# 1. Cargar dataset\n",
        "newsgroups = fetch_20newsgroups(subset=\"all\")\n",
        "docs = newsgroups.data\n",
        "\n",
        "# 2. Vectorizar con TF-IDF\n",
        "vectorizer = TfidfVectorizer(stop_words=\"english\", max_features=5000)\n",
        "#transforma los documentos en una matriz documento × término.\n",
        "#Filtra stopwords en inglés\n",
        "#Se queda con las 5000 palabras más frecuentes/relevantes\n",
        "X = vectorizer.fit_transform(docs)\n",
        "#vectorizer es un objeto de TfidfVectorizer, que convierte texto en vectores numéricos usando TF-IDF.\n",
        "terms = vectorizer.get_feature_names_out()\n",
        "#Devuelve un array con todas las palabras (términos) que están en la matriz X.\n",
        "#Esto permite saber qué palabra corresponde a cada columna de X.\n",
        "\n",
        "# 3. Transponer matriz (término-documento)\n",
        "X_t = X.T  # ahora cada fila es una palabra\n",
        "\n",
        "# 4. Calcular similaridad entre términos\n",
        "similarities_terms = cosine_similarity(X_t)\n",
        "\n",
        "# 5. Elegir manualmente 5 palabras interpretables\n",
        "selected_words = [\"hockey\", \"windows\", \"space\", \"jesus\", \"game\"]\n",
        "\n",
        "for word in selected_words: # Recorre cada palabra de la lista selected_words (por ejemplo \"hockey\", \"windows\", etc.) para analizarla una por una\n",
        "    idx = np.where(terms == word)[0][0]\n",
        "    #terms es un array con todas las palabras del vocabulario.\n",
        "    #np.where(terms == word) devuelve un array con la posición(es) donde aparece la palabra.\n",
        "    #[0][0] toma el primer índice (la posición de la palabra en la matriz TF-IDF).\n",
        "    sim_scores = list(enumerate(similarities_terms[idx]))\n",
        "    #similarities_terms es la matriz de similitud entre todas las palabras (término × término).\n",
        "    #similarities_terms[idx] devuelve un vector con la similitud de \"hockey\" con cada palabra del vocabulario.\n",
        "    #enumerate(...) crea pares (índice, similitud) para poder saber qué palabra corresponde a cada valor.\n",
        "    sim_scores = sorted(sim_scores, key=lambda x: x[1], reverse=True)\n",
        "    #Ordena los pares (índice, similitud) de mayor a menor según la similitud.\n",
        "    #Así, las palabras más cercanas a \"hockey\" quedan al principio.\n",
        "    top5 = [terms[j] for j, score in sim_scores[1:6]]\n",
        "    #top5 contiene las 5 palabras más semánticamente similares a la palabra actual.\n",
        "\n",
        "    print(\"=\"*80)\n",
        "    print(f\"🔹 Palabra: '{word}'\")\n",
        "    print(\"Palabras más similares:\", top5)"
      ]
    },
    {
      "cell_type": "markdown",
      "metadata": {
        "id": "o3hirpeJeMMa"
      },
      "source": [
        "\n",
        "**3**. Entrenar modelos de clasificación Naïve Bayes para maximizar el desempeño de clasificación\n",
        "(f1-score macro) en el conjunto de datos de test. Considerar cambiar parámteros\n",
        "de instanciación del vectorizador y los modelos y probar modelos de Naïve Bayes Multinomial\n",
        "y ComplementNB."
      ]
    },
    {
      "cell_type": "code",
      "execution_count": null,
      "metadata": {
        "colab": {
          "background_save": true,
          "base_uri": "https://localhost:8080/"
        },
        "id": "HLqhJ699XMGv",
        "outputId": "ea951331-db72-42b3-8488-d7a41bbd0bd9"
      },
      "outputs": [
        {
          "name": "stdout",
          "output_type": "stream",
          "text": [
            "MultinomialNB, alpha=0.1, vec={'ngram_range': (1, 1), 'max_features': 20000} => F1-macro=0.8281\n",
            "MultinomialNB, alpha=0.5, vec={'ngram_range': (1, 1), 'max_features': 20000} => F1-macro=0.8157\n",
            "MultinomialNB, alpha=1.0, vec={'ngram_range': (1, 1), 'max_features': 20000} => F1-macro=0.8036\n",
            "ComplementNB, alpha=0.1, vec={'ngram_range': (1, 1), 'max_features': 20000} => F1-macro=0.8148\n",
            "ComplementNB, alpha=0.5, vec={'ngram_range': (1, 1), 'max_features': 20000} => F1-macro=0.8173\n",
            "ComplementNB, alpha=1.0, vec={'ngram_range': (1, 1), 'max_features': 20000} => F1-macro=0.8162\n",
            "MultinomialNB, alpha=0.1, vec={'ngram_range': (1, 2), 'max_features': 30000} => F1-macro=0.8051\n",
            "MultinomialNB, alpha=0.5, vec={'ngram_range': (1, 2), 'max_features': 30000} => F1-macro=0.7950\n",
            "MultinomialNB, alpha=1.0, vec={'ngram_range': (1, 2), 'max_features': 30000} => F1-macro=0.7900\n",
            "ComplementNB, alpha=0.1, vec={'ngram_range': (1, 2), 'max_features': 30000} => F1-macro=0.8095\n",
            "ComplementNB, alpha=0.5, vec={'ngram_range': (1, 2), 'max_features': 30000} => F1-macro=0.8102\n",
            "ComplementNB, alpha=1.0, vec={'ngram_range': (1, 2), 'max_features': 30000} => F1-macro=0.8107\n",
            "MultinomialNB, alpha=0.1, vec={'ngram_range': (1, 2), 'max_features': None} => F1-macro=0.8166\n",
            "MultinomialNB, alpha=0.5, vec={'ngram_range': (1, 2), 'max_features': None} => F1-macro=0.8033\n",
            "MultinomialNB, alpha=1.0, vec={'ngram_range': (1, 2), 'max_features': None} => F1-macro=0.7938\n",
            "ComplementNB, alpha=0.1, vec={'ngram_range': (1, 2), 'max_features': None} => F1-macro=0.8341\n",
            "ComplementNB, alpha=0.5, vec={'ngram_range': (1, 2), 'max_features': None} => F1-macro=0.8291\n",
            "ComplementNB, alpha=1.0, vec={'ngram_range': (1, 2), 'max_features': None} => F1-macro=0.8240\n",
            "==========================================================================================\n",
            "🏆 Mejor configuración encontrada:\n",
            "('ComplementNB', 0.1, {'ngram_range': (1, 2), 'max_features': None}) con F1-macro = 0.8341476554557129\n"
          ]
        }
      ],
      "source": [
        "from sklearn.datasets import fetch_20newsgroups #carga un dataset de noticias clasificadas en 20 categorías\n",
        "from sklearn.feature_extraction.text import TfidfVectorizer #transforma texto en vectores numéricos usando TF-IDF\n",
        "from sklearn.naive_bayes import MultinomialNB, ComplementNB #modelos de Naive Bayes para clasificación de texto\n",
        "from sklearn.metrics import f1_score #métrica para evaluar desempeño de clasificación\n",
        "from sklearn.pipeline import Pipeline #permite encadenar transformaciones (TF-IDF) y modelos.\n",
        "import numpy as np\n",
        "\n",
        "# 1. Cargar dataset\n",
        "train = fetch_20newsgroups(subset=\"train\") #Le dice a fetch_20newsgroups que cargue solo el conjunto de entrenamiento.\n",
        "test = fetch_20newsgroups(subset=\"test\")  #Le dice a fetch_20newsgroups que cargue solo el conjunto de prueba.\n",
        "\n",
        "X_train, y_train = train.data, train.target\n",
        "X_test, y_test = test.data, test.target\n",
        "# extrae los datos y las etiquetas del dataset que cargaste con fetch_20newsgroups y los guarda en variables separadas para que sean más fáciles de usar\n",
        "\n",
        "# 2. Definir combinaciones de parámetros a probar\n",
        "vectorizer_params = [\n",
        "    {\"ngram_range\": (1,1), \"max_features\": 20000},\n",
        "    {\"ngram_range\": (1,2), \"max_features\": 30000},\n",
        "    {\"ngram_range\": (1,2), \"max_features\": None},  # sin límite\n",
        "]\n",
        "\n",
        "# 2. Definir la prueba del modelo\n",
        "models = [\n",
        "    (\"MultinomialNB\", MultinomialNB),\n",
        "    (\"ComplementNB\", ComplementNB),\n",
        "]\n",
        "\n",
        "alphas = [0.1, 0.5, 1.0]\n",
        "#alpha es un parámetro de suavizado de Laplace\n",
        "#Sirve para evitar probabilidades cero cuando una palabra que aparece en el test no estaba en el entrenamiento.\n",
        "\n",
        "best_score = 0\n",
        "best_config = None\n",
        "\n",
        "\n",
        "for vec_params in vectorizer_params: #Recorre todas las combinaciones posibles\n",
        "    for model_name, Model in models:\n",
        "        for alpha in alphas:\n",
        "\n",
        "            # pipeline vectorizador + modelo\n",
        "            clf = Pipeline([\n",
        "                (\"tfidf\", TfidfVectorizer(stop_words=\"english\", **vec_params)),\n",
        "                (\"nb\", Model(alpha=alpha))\n",
        "            ])\n",
        "            #Se crea un pipeline de scikit-learn\n",
        "            #Vectorizador TF-IDF convierte el texto en un vector numérico usando los parámetros actuales (vec_params) y eliminando stopwords en inglés\n",
        "            #Modelo Naive Bayes: instancia MultinomialNB o ComplementNB con el alpha actual.\n",
        "\n",
        "            clf.fit(X_train, y_train) #Ajusta el pipeline a los datos de entrenamiento.\n",
        "            y_pred = clf.predict(X_test) #Predice las etiquetas del conjunto de prueba\n",
        "\n",
        "            score = f1_score(y_test, y_pred, average=\"macro\")\n",
        "            #Calcula la métrica F1\n",
        "\n",
        "            print(f\"{model_name}, alpha={alpha}, vec={vec_params} => F1-macro={score:.4f}\")\n",
        "            #Muestra por pantalla qué combinación se está probando y su puntuación F1\n",
        "\n",
        "            if score > best_score:\n",
        "                best_score = score\n",
        "                best_config = (model_name, alpha, vec_params)\n",
        "                #Si la combinación actual supera la mejor puntuación hasta ahora, guarda:\n",
        "                #El score más alto (best_score)\n",
        "                #La configuración que lo produjo (best_config)\n",
        "\n",
        "  #Este código hace un grid search manual: prueba todas las combinaciones posibles de vectorizador, modelo y alpha, mide su desempeño con F1 y guarda la mejor configuración\n",
        "\n",
        "print(\"=\"*90)\n",
        "print(\"🏆 Mejor configuración encontrada:\")\n",
        "print(best_config, \"con F1-macro =\", best_score)"
      ]
    },
    {
      "cell_type": "code",
      "execution_count": null,
      "metadata": {
        "colab": {
          "background_save": true
        },
        "id": "Kz-xKnmQXMXd"
      },
      "outputs": [],
      "source": []
    }
  ],
  "metadata": {
    "colab": {
      "provenance": [],
      "include_colab_link": true
    },
    "kernelspec": {
      "display_name": "Python 3",
      "name": "python3"
    },
    "language_info": {
      "name": "python"
    }
  },
  "nbformat": 4,
  "nbformat_minor": 0
}