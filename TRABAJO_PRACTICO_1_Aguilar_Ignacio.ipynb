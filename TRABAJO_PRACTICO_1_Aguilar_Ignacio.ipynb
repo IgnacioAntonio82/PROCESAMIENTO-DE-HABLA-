{
  "nbformat": 4,
  "nbformat_minor": 0,
  "metadata": {
    "colab": {
      "provenance": [],
      "authorship_tag": "ABX9TyP+ranqf1xCLrCcYXif79+t",
      "include_colab_link": true
    },
    "kernelspec": {
      "name": "python3",
      "display_name": "Python 3"
    },
    "language_info": {
      "name": "python"
    }
  },
  "cells": [
    {
      "cell_type": "markdown",
      "metadata": {
        "id": "view-in-github",
        "colab_type": "text"
      },
      "source": [
        "<a href=\"https://colab.research.google.com/github/IgnacioAntonio82/PROCESAMIENTO-DE-HABLA-/blob/main/TRABAJO_PRACTICO_1_Aguilar_Ignacio.ipynb\" target=\"_parent\"><img src=\"https://colab.research.google.com/assets/colab-badge.svg\" alt=\"Open In Colab\"/></a>"
      ]
    },
    {
      "cell_type": "markdown",
      "source": [
        "# ================================\n",
        "# 📥 DESCARGA DEL ARCHIVO PDF\n",
        "# ================================"
      ],
      "metadata": {
        "id": "332RgMpnQCtK"
      }
    },
    {
      "cell_type": "code",
      "execution_count": 32,
      "metadata": {
        "id": "HbKuvB8BPbCZ"
      },
      "outputs": [],
      "source": [
        "import requests\n",
        "\n",
        "#Esta función tiene como objetivo descargar un archivo PDF desde una URL y guardarlo localmente con el nombre que le indiques\n",
        "def download_pdf(url, filename):\n",
        "  try:\n",
        "    response = requests.get(url, stream=True) # iniciar una solicitud HTTP GET hacia la URL\n",
        "    response.raise_for_status() #lanza un error si la respuesta HTTP indica un problema (como error 404 si el archivo no existe).\n",
        "\n",
        "    with open(filename, 'wb') as file:  #Abre un archivo local en modo binario de escritura ('wb').\n",
        "      for chunk in response.iter_content(chunk_size=8192):\n",
        "        file.write(chunk) #Luego, lee el contenido descargado en fragmentos (chunk_size=8192 bytes, es decir, 8 KB) y lo va escribiendo en el archivo local para no saturar la memoria\n",
        "    print(f\"✅ PDF descargado con éxito como '{filename}'\")\n",
        "\n",
        "  except requests.exceptions.RequestException as e:\n",
        "    print(f\"❌ Error al descargar el PDF: {e}\")\n"
      ]
    },
    {
      "cell_type": "markdown",
      "source": [
        "# ================================\n",
        "# 📚 INSTALACIÓN DE DEPENDENCIAS ,libreria  PyMupdf\n",
        "# ================================"
      ],
      "metadata": {
        "id": "ktOA0dxSQZA_"
      }
    },
    {
      "cell_type": "code",
      "source": [
        "!pip install pymupdf"
      ],
      "metadata": {
        "colab": {
          "base_uri": "https://localhost:8080/"
        },
        "id": "aOBq9F3QQfRd",
        "outputId": "d214480a-895b-4ba4-b270-76e64f78e611"
      },
      "execution_count": 33,
      "outputs": [
        {
          "output_type": "stream",
          "name": "stdout",
          "text": [
            "Requirement already satisfied: pymupdf in /usr/local/lib/python3.12/dist-packages (1.26.4)\n"
          ]
        }
      ]
    },
    {
      "cell_type": "markdown",
      "source": [
        "# ================================\n",
        "# 📄 PROCESAMIENTO DEL PDF\n",
        "# ================================"
      ],
      "metadata": {
        "id": "oipi_pnAQj8Y"
      }
    },
    {
      "cell_type": "code",
      "source": [
        "import fitz  # PyMuPDF\n",
        "\n",
        "# La función lee un archivo PDF, extrae el texto desde una página específica, y organiza ese texto en estrofas (grupos de versos), según ciertas reglas para determinar cuándo termina una estrofa\n",
        "def extraer_estrofas_desde_pdf(ruta_pdf, pagina_inicio=4, max_versos_por_estrofa=8):\n",
        "  ##Pagina Inicio:indica que la primer pagina a procesar es a partir de la cuarta\n",
        "  ##max_versos_por_estrofa Máximo número de versos por estrofa (por defecto, 8).\n",
        "\n",
        "\n",
        "    def termina_estrofa(verso):\n",
        "      verso = verso.strip()\n",
        "      if verso.endswith('...'):\n",
        "          return False\n",
        "      signos_fin = ['.', '\"', '”', '?', 'zas!','mor!','rte!','aba!','sto!','ial!','jas!','sca!','era!','ajo!','nto!','mar!','nte!','vao!','los!','ros!']\n",
        "      return any(verso.endswith(signo) for signo in signos_fin)\n",
        "      ## esta funcion Determina el final de un verso.\n",
        "      ## Considera que un verso no termina una estrofa si acaba en ... (porque se entiende que continúa).\n",
        "\n",
        "\n",
        "    doc = fitz.open(ruta_pdf) #abre el archivo pdf\n",
        "\n",
        "    texto = \"\"\n",
        "\n",
        "\n",
        "    for pagina in doc.pages(pagina_inicio - 1, len(doc)):  #Lee todo el texto desde la página indicada (pagina_inicio - 1 porque los índices empiezan en 0).\n",
        "        texto += pagina.get_text() + \"\\n\" #asigna a texto todo el contenido en una sola cadena\n",
        "\n",
        "\n",
        "    doc.close() #cierra el archivo\n",
        "\n",
        "    lineas = [linea.strip() for linea in texto.split('\\n') if linea.strip() ]\n",
        "    #La variable lineas contendrá una lista con todas las líneas del texto, sin líneas vacías ni espacios sobrantes\n",
        "\n",
        "\n",
        "\n",
        "    lista_estrofas = []\n",
        "    estrofa_actual = []\n",
        "\n",
        "    #Este código agrupa líneas de texto en estrofas según dos condiciones:\n",
        "    #Cuando una línea indica que la estrofa termina (según la función termina_estrofa).\n",
        "    # O cuando se alcanza un número máximo de versos por estrofa (max_versos_por_estrofa).\n",
        "    #Cada estrofa se guarda como un diccionario con:\n",
        "      # - La cantidad de versos que tiene (cant_versos).\n",
        "      #- El texto completo de la estrofa, con los versos unidos por saltos de línea (texto).\n",
        "    for linea in lineas:\n",
        "        estrofa_actual.append(linea)\n",
        "\n",
        "        if termina_estrofa(linea) or len(estrofa_actual) >= max_versos_por_estrofa:\n",
        "            lista_estrofas.append({\n",
        "                'cant_versos': len(estrofa_actual),\n",
        "                'texto': '\\n'.join(estrofa_actual)\n",
        "            })\n",
        "            estrofa_actual = []\n",
        "\n",
        "    # agrega ultima estrofa si quedo alguna suelta\n",
        "    if estrofa_actual:\n",
        "        lista_estrofas.append({\n",
        "            'cant_versos': len(estrofa_actual),\n",
        "            'texto': '\\n'.join(estrofa_actual)\n",
        "        })\n",
        "\n",
        "    return lista_estrofas\n"
      ],
      "metadata": {
        "id": "cbiJY2TgQtxV"
      },
      "execution_count": 34,
      "outputs": []
    },
    {
      "cell_type": "markdown",
      "source": [
        "# ================================\n",
        "# ▶️ EJECUCIÓN PRINCIPAL\n",
        "# ================================"
      ],
      "metadata": {
        "id": "-A5965eo4G98"
      }
    },
    {
      "cell_type": "code",
      "source": [
        "def main():\n",
        "    pdf_url = \"https://www.argentina.gob.ar/sites/default/files/hernandez_jose_-_el_gaucho_martin_fierro.pdf\"\n",
        "    output_filename = \"martin_fierro.pdf\"\n",
        "\n",
        "    download_pdf(pdf_url, output_filename)\n",
        "    estrofas = extraer_estrofas_desde_pdf(output_filename)\n",
        "\n",
        "    # Muestra la  estrofa como ejemplo\n",
        "    print(\"\\n📝 Estrofa extraída:\\n\")\n",
        "    print(estrofas[1])\n",
        "\n",
        "main()"
      ],
      "metadata": {
        "colab": {
          "base_uri": "https://localhost:8080/"
        },
        "id": "7gpsu5Yh4KIJ",
        "outputId": "50af9d9d-63d9-4605-b94c-516507fb545d"
      },
      "execution_count": 37,
      "outputs": [
        {
          "output_type": "stream",
          "name": "stdout",
          "text": [
            "✅ PDF descargado con éxito como 'martin_fierro.pdf'\n",
            "\n",
            "📝 Estrofa extraída:\n",
            "\n",
            "{'cant_versos': 6, 'texto': 'Pido a los santos del cielo\\nque ayuden mi pensamiento:\\nles pido en este momento\\nque voy a cantar mi historia\\nme refresquen la memoria\\ny aclaren mi entendimiento.'}\n"
          ]
        }
      ]
    }
  ]
}